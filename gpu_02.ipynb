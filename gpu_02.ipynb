{
  "nbformat": 4,
  "nbformat_minor": 0,
  "metadata": {
    "colab": {
      "name": "gpu_02.ipynb",
      "provenance": [],
      "collapsed_sections": [],
      "authorship_tag": "ABX9TyN9a2Crv4smRy7cUecywUXM",
      "include_colab_link": true
    },
    "kernelspec": {
      "name": "python3",
      "display_name": "Python 3"
    },
    "accelerator": "GPU"
  },
  "cells": [
    {
      "cell_type": "markdown",
      "metadata": {
        "id": "view-in-github",
        "colab_type": "text"
      },
      "source": [
        "<a href=\"https://colab.research.google.com/github/merazlab/cuda/blob/main/gpu_02.ipynb\" target=\"_parent\"><img src=\"https://colab.research.google.com/assets/colab-badge.svg\" alt=\"Open In Colab\"/></a>"
      ]
    },
    {
      "cell_type": "markdown",
      "metadata": {
        "id": "X6qAiQGXzpi8"
      },
      "source": [
        "### Problem\n",
        "```\n",
        "Write a program to add two array using cuda core ?\n",
        "```"
      ]
    },
    {
      "cell_type": "code",
      "metadata": {
        "colab": {
          "base_uri": "https://localhost:8080/"
        },
        "id": "MqG9tNJDzaJR",
        "outputId": "35fa6468-1aca-496e-f8c6-8fdf83a4c234"
      },
      "source": [
        "!pip install git+git://github.com/andreinechaev/nvcc4jupyter.git\n",
        "%load_ext nvcc_plugin"
      ],
      "execution_count": 3,
      "outputs": [
        {
          "output_type": "stream",
          "text": [
            "Collecting git+git://github.com/andreinechaev/nvcc4jupyter.git\n",
            "  Cloning git://github.com/andreinechaev/nvcc4jupyter.git to /tmp/pip-req-build-1eenvcdy\n",
            "  Running command git clone -q git://github.com/andreinechaev/nvcc4jupyter.git /tmp/pip-req-build-1eenvcdy\n",
            "Building wheels for collected packages: NVCCPlugin\n",
            "  Building wheel for NVCCPlugin (setup.py) ... \u001b[?25l\u001b[?25hdone\n",
            "  Created wheel for NVCCPlugin: filename=NVCCPlugin-0.0.2-cp36-none-any.whl size=4308 sha256=b10905263358bea05683b0b6e4255988fe60dabb10568338e217f12d0c0b4f2b\n",
            "  Stored in directory: /tmp/pip-ephem-wheel-cache-gpwqwdpq/wheels/10/c2/05/ca241da37bff77d60d31a9174f988109c61ba989e4d4650516\n",
            "Successfully built NVCCPlugin\n",
            "Installing collected packages: NVCCPlugin\n",
            "Successfully installed NVCCPlugin-0.0.2\n",
            "created output directory at /content/src\n",
            "Out bin /content/result.out\n"
          ],
          "name": "stdout"
        }
      ]
    },
    {
      "cell_type": "code",
      "metadata": {
        "colab": {
          "base_uri": "https://localhost:8080/"
        },
        "id": "48Alm6uhy088",
        "outputId": "dae6d967-9ea7-4a08-a370-02d9778e779e"
      },
      "source": [
        "%%cu\n",
        "#include<stdio.h>\n",
        "#define BS 8\n",
        "#define N 10\n",
        "\n",
        "void print(int *A,int n){\n",
        "    for(int i=0; i<n; i++)\n",
        "        printf(\"%d \",A[i]);\n",
        "    printf(\"\\n\");\n",
        "}\n",
        "\n",
        "__global__ void add_array(int *A, int *B, int n){\n",
        "    int i = blockDim.x * blockIdx.x + threadIdx.x;\n",
        "    if(i < n) A[i] = A[i] + B[i];\n",
        "}\n",
        "\n",
        "int main(void){\n",
        "    int threadsPerBlock, blocksPerGrid, n, *A, *B, *dA, *dB;\n",
        "    n=N; threadsPerBlock=BS;\n",
        "    blocksPerGrid = (n+BS-1)/BS;\n",
        "    \n",
        "    A = (int*) malloc(n*sizeof(int));\n",
        "    B = (int*) malloc(n*sizeof(int));\n",
        "\n",
        "    for(int i=0; i<n; i++) A[i]=i;\n",
        "    for(int i=0; i<n; i++) B[i]=i*2;\n",
        "    print(A, n);\n",
        "    print(B, n);    \n",
        "\n",
        "    cudaMalloc((void**)&dA, n*sizeof(int));\n",
        "    cudaMalloc((void**)&dB, n*sizeof(int));\n",
        "\n",
        "    cudaMemcpy(dA, A, n*sizeof(int), cudaMemcpyHostToDevice);\n",
        "    cudaMemcpy(dB, B, n*sizeof(int), cudaMemcpyHostToDevice);\n",
        "\n",
        "    add_array<<<blocksPerGrid,threadsPerBlock>>>(dA, dB, n);\n",
        "\n",
        "    cudaMemcpy(A , dA, n*sizeof(int), cudaMemcpyDeviceToHost);\n",
        "\n",
        "    print(A, n);\n",
        " \n",
        "    cudaFree(dA);\n",
        "    free(A);\n",
        "\n",
        "    return 0;\n",
        "}"
      ],
      "execution_count": 10,
      "outputs": [
        {
          "output_type": "stream",
          "text": [
            "0 1 2 3 4 5 6 7 8 9 \n",
            "0 2 4 6 8 10 12 14 16 18 \n",
            "0 3 6 9 12 15 18 21 24 27 \n",
            "\n"
          ],
          "name": "stdout"
        }
      ]
    },
    {
      "cell_type": "code",
      "metadata": {
        "id": "UE47v7FQzNqj"
      },
      "source": [
        ""
      ],
      "execution_count": null,
      "outputs": []
    }
  ]
}