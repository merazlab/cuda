{
  "nbformat": 4,
  "nbformat_minor": 0,
  "metadata": {
    "colab": {
      "name": "gpu_01.ipynb",
      "provenance": [],
      "collapsed_sections": [],
      "authorship_tag": "ABX9TyNrZygc8JtNxQcV42aYtcJt",
      "include_colab_link": true
    },
    "kernelspec": {
      "name": "python3",
      "display_name": "Python 3"
    },
    "accelerator": "GPU"
  },
  "cells": [
    {
      "cell_type": "markdown",
      "metadata": {
        "id": "view-in-github",
        "colab_type": "text"
      },
      "source": [
        "<a href=\"https://colab.research.google.com/github/merazlab/cuda/blob/main/gpu_01.ipynb\" target=\"_parent\"><img src=\"https://colab.research.google.com/assets/colab-badge.svg\" alt=\"Open In Colab\"/></a>"
      ]
    },
    {
      "cell_type": "markdown",
      "metadata": {
        "id": "fiU4XjbrprXr"
      },
      "source": [
        "### Checks nvidia-cuda compiler version"
      ]
    },
    {
      "cell_type": "code",
      "metadata": {
        "colab": {
          "base_uri": "https://localhost:8080/"
        },
        "id": "OLNv5Sbtpa2A",
        "outputId": "b8372003-4665-4c77-d2ed-241e4e35cc8b"
      },
      "source": [
        "!nvcc --version"
      ],
      "execution_count": 1,
      "outputs": [
        {
          "output_type": "stream",
          "text": [
            "nvcc: NVIDIA (R) Cuda compiler driver\n",
            "Copyright (c) 2005-2019 NVIDIA Corporation\n",
            "Built on Sun_Jul_28_19:07:16_PDT_2019\n",
            "Cuda compilation tools, release 10.1, V10.1.243\n"
          ],
          "name": "stdout"
        }
      ]
    },
    {
      "cell_type": "markdown",
      "metadata": {
        "id": "icSN0gbLqDHY"
      },
      "source": [
        "Install NVCC Plugin for Jupyter notebook\n",
        "\n",
        "https://github.com/andreinechaev/nvcc4jupyter"
      ]
    },
    {
      "cell_type": "code",
      "metadata": {
        "colab": {
          "base_uri": "https://localhost:8080/"
        },
        "id": "x8ZooJN8pqZe",
        "outputId": "22cc1b5c-d45b-4cc0-8bde-d08e72e42ef4"
      },
      "source": [
        "!pip install git+git://github.com/andreinechaev/nvcc4jupyter.git\n",
        "%load_ext nvcc_plugin"
      ],
      "execution_count": 4,
      "outputs": [
        {
          "output_type": "stream",
          "text": [
            "Collecting git+git://github.com/andreinechaev/nvcc4jupyter.git\n",
            "  Cloning git://github.com/andreinechaev/nvcc4jupyter.git to /tmp/pip-req-build-oedvsl3s\n",
            "  Running command git clone -q git://github.com/andreinechaev/nvcc4jupyter.git /tmp/pip-req-build-oedvsl3s\n",
            "Building wheels for collected packages: NVCCPlugin\n",
            "  Building wheel for NVCCPlugin (setup.py) ... \u001b[?25l\u001b[?25hdone\n",
            "  Created wheel for NVCCPlugin: filename=NVCCPlugin-0.0.2-cp36-none-any.whl size=4308 sha256=b833f9053f43c752cc101ca979867dfdb44fd2bd75af5350e67eb95076c11ab2\n",
            "  Stored in directory: /tmp/pip-ephem-wheel-cache-il8417e1/wheels/10/c2/05/ca241da37bff77d60d31a9174f988109c61ba989e4d4650516\n",
            "Successfully built NVCCPlugin\n",
            "Installing collected packages: NVCCPlugin\n",
            "Successfully installed NVCCPlugin-0.0.2\n",
            "created output directory at /content/src\n",
            "Out bin /content/result.out\n"
          ],
          "name": "stdout"
        }
      ]
    },
    {
      "cell_type": "code",
      "metadata": {
        "colab": {
          "base_uri": "https://localhost:8080/"
        },
        "id": "0-COOydHqcrR",
        "outputId": "e63153d4-2b83-4d3b-8213-337b5fca7bc0"
      },
      "source": [
        "%%cu\n",
        "#include<stdio.h>\n",
        "#define BS 8\n",
        "#define N 10\n",
        "\n",
        "void print(int *A,int n){\n",
        "    for(int i=0; i<n; i++)\n",
        "        printf(\"%d \",A[i]);\n",
        "}\n",
        "\n",
        "__global__ void increment(int *A,int n){\n",
        "    int i = blockDim.x * blockIdx.x + threadIdx.x;\n",
        "    if(i < n) A[i]++;\n",
        "}\n",
        "\n",
        "int main(void){\n",
        "    int threadsPerBlock, blocksPerGrid, n, *A, *dA;\n",
        "    n=N; threadsPerBlock=BS;\n",
        "    blocksPerGrid = (n+BS-1)/BS;\n",
        "    A=(int*) malloc(n*sizeof(int));\n",
        "    for(int i=0; i<n; i++) A[i]=i*10;\n",
        "    //0 10 20 30 40 50 60 70 80 90 \n",
        "    cudaMalloc((void**)&dA,n*sizeof(int));\n",
        "    cudaMemcpy(dA,A,n*sizeof(int),cudaMemcpyHostToDevice);\n",
        "    increment<<<blocksPerGrid,threadsPerBlock>>>(dA,n);\n",
        "    cudaMemcpy(A,dA,n*sizeof(int),cudaMemcpyDeviceToHost);\n",
        "    print(A, n);\n",
        "    //1 11 21 31 41 51 61 71 81 91 \n",
        "    cudaFree(dA);\n",
        "    free(A);\n",
        "    return 0;\n",
        "}"
      ],
      "execution_count": 10,
      "outputs": [
        {
          "output_type": "stream",
          "text": [
            "1 11 21 31 41 51 61 71 81 91 \n"
          ],
          "name": "stdout"
        }
      ]
    },
    {
      "cell_type": "markdown",
      "metadata": {
        "id": "rPwECVcTxQ1K"
      },
      "source": [
        "## Save the cuda file in using notebook and Run using notebook"
      ]
    },
    {
      "cell_type": "markdown",
      "metadata": {
        "id": "AfMZQLG1vnec"
      },
      "source": [
        "Save the program with a filename, using writefile command"
      ]
    },
    {
      "cell_type": "code",
      "metadata": {
        "colab": {
          "base_uri": "https://localhost:8080/"
        },
        "id": "gt9AkVJrueif",
        "outputId": "b3a610fe-c155-44b3-8c73-47cd48be51c2"
      },
      "source": [
        "%%writefile increment.cu\n",
        "#include<stdio.h>\n",
        "#define BS 8\n",
        "#define N 10\n",
        "\n",
        "void print(int *A,int n){\n",
        "    for(int i=0; i<n; i++)\n",
        "        printf(\"%d \",A[i]);\n",
        "}\n",
        "\n",
        "__global__ void increment(int *A,int n){\n",
        "    int i = blockDim.x * blockIdx.x + threadIdx.x;\n",
        "    if(i < n) A[i]++;\n",
        "}\n",
        "\n",
        "int main(void){\n",
        "    int threadsPerBlock, blocksPerGrid, n, *A, *dA;\n",
        "    n=N; threadsPerBlock=BS;\n",
        "    blocksPerGrid = (n+BS-1)/BS;\n",
        "    A=(int*) malloc(n*sizeof(int));\n",
        "    for(int i=0; i<n; i++) A[i]=i*10;\n",
        "    //0 10 20 30 40 50 60 70 80 90 \n",
        "    cudaMalloc((void**)&dA,n*sizeof(int));\n",
        "    cudaMemcpy(dA,A,n*sizeof(int),cudaMemcpyHostToDevice);\n",
        "    increment<<<blocksPerGrid,threadsPerBlock>>>(dA,n);\n",
        "    cudaMemcpy(A,dA,n*sizeof(int),cudaMemcpyDeviceToHost);\n",
        "    print(A, n);\n",
        "    //1 11 21 31 41 51 61 71 81 91 \n",
        "    cudaFree(dA);\n",
        "    free(A);\n",
        "    return 0;\n",
        "}"
      ],
      "execution_count": 16,
      "outputs": [
        {
          "output_type": "stream",
          "text": [
            "Overwriting increment.cu\n"
          ],
          "name": "stdout"
        }
      ]
    },
    {
      "cell_type": "code",
      "metadata": {
        "colab": {
          "base_uri": "https://localhost:8080/"
        },
        "id": "5DdSZgcOwLyJ",
        "outputId": "0c77cdc5-84ac-4084-b1ff-275263b66b48"
      },
      "source": [
        "%%script bash\n",
        "nvcc increment.cu\n",
        "./a.out"
      ],
      "execution_count": 17,
      "outputs": [
        {
          "output_type": "stream",
          "text": [
            "1 11 21 31 41 51 61 71 81 91 "
          ],
          "name": "stdout"
        }
      ]
    },
    {
      "cell_type": "code",
      "metadata": {
        "id": "amdxLOarw79n"
      },
      "source": [
        ""
      ],
      "execution_count": null,
      "outputs": []
    }
  ]
}